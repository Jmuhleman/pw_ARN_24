{
 "cells": [
  {
   "cell_type": "code",
   "execution_count": 97,
   "id": "ce3c6e79-e91a-4977-9c1b-5d072890d965",
   "metadata": {},
   "outputs": [],
   "source": [
    "import pandas as pd\n",
    "\n",
    "trainset_1 = pd.read_csv('EEG_mouse_data_1.csv')\n",
    "trainset_2 = pd.read_csv('EEG_mouse_data_2.csv')\n",
    "testset_1 = pd.read_csv('EEG_mouse_data_test.csv')"
   ]
  },
  {
   "cell_type": "code",
   "execution_count": 102,
   "id": "6da8a2f1-dbed-4659-b9a4-ae462f1333ef",
   "metadata": {},
   "outputs": [],
   "source": [
    "# visualisation des données par classe\n",
    "def show_boxplots(df):\n",
    "    fig, axs = plt.subplots(20, 5, figsize=(25, 120))\n",
    "    axs = axs.flatten()\n",
    "\n",
    "    for i, col in enumerate(df.columns[1:]):\n",
    "        sns.boxplot(x='state', y=col, data=df, ax=axs[i])\n",
    "    \n",
    "    fig.suptitle('Boxplot of the amplitudes', fontsize=14)\n",
    "    fig.tight_layout(rect=[0, 0.03, 1, 0.98])\n"
   ]
  },
  {
   "cell_type": "code",
   "execution_count": 103,
   "id": "80eb5be8-ffee-4049-8106-af0b36722ff5",
   "metadata": {},
   "outputs": [],
   "source": [
    "# normlisation des features\n",
    "from sklearn.preprocessing import StandardScaler\n",
    "import pandas as pd\n",
    "def normalize(df):\n",
    "    headers = df.columns\n",
    "    scaler = StandardScaler()\n",
    "    \n",
    "    numerical_columns = df.select_dtypes(include=['int', 'float']).columns\n",
    "    df[numerical_columns] = scaler.fit_transform(df[numerical_columns])\n",
    "    normalized_data = pd.DataFrame(df, columns=headers[:-1])\n",
    "\n",
    "    return normalized_data"
   ]
  },
  {
   "cell_type": "code",
   "execution_count": null,
   "id": "3c73dcdc-1fa0-438c-9e42-d17410550acf",
   "metadata": {},
   "outputs": [],
   "source": [
    "# batch shuffling\n",
    "import numpy as np\n",
    "\n",
    "def shuffle_dataset_by_batch(data, batch_size):\n",
    "    num_batches = len(data) // batch_size\n",
    "    shuffled_indices = np.arange(num_batches)\n",
    "    np.random.shuffle(shuffled_indices)\n",
    "\n",
    "    shuffled_data = []\n",
    "    for i in shuffled_indices:\n",
    "        batch_start = i * batch_size\n",
    "        batch_end = (i + 1) * batch_size\n",
    "        shuffled_data.extend(data[batch_start:batch_end])\n",
    "\n",
    "    return shuffled_data\n",
    "\n",
    "# Assuming 'data' is your dataset\n",
    "batch_size = 32\n",
    "shuffled_data = shuffle_dataset_by_batch(data, batch_size)"
   ]
  },
  {
   "cell_type": "code",
   "execution_count": 104,
   "id": "de17cdfe-f116-4b9d-b8d1-d82f2d7aabac",
   "metadata": {},
   "outputs": [],
   "source": [
    "import seaborn as sns\n",
    "import matplotlib.pyplot as plt\n",
    "\n",
    "## visualisation des données par fréquences\n",
    "normal_trainset_1 = normalize(trainset_1)\n"
   ]
  },
  {
   "cell_type": "code",
   "execution_count": 108,
   "id": "57da11fb-5087-4e02-ad77-51eb36b0374b",
   "metadata": {},
   "outputs": [],
   "source": [
    "normal_train_set_1 = normal_trainset_1.iloc[:, :26]"
   ]
  },
  {
   "cell_type": "code",
   "execution_count": null,
   "id": "aeff77d5-e5d5-4137-a316-33914c031d65",
   "metadata": {},
   "outputs": [],
   "source": []
  }
 ],
 "metadata": {
  "kernelspec": {
   "display_name": "Python 3 (ipykernel)",
   "language": "python",
   "name": "python3"
  },
  "language_info": {
   "codemirror_mode": {
    "name": "ipython",
    "version": 3
   },
   "file_extension": ".py",
   "mimetype": "text/x-python",
   "name": "python",
   "nbconvert_exporter": "python",
   "pygments_lexer": "ipython3",
   "version": "3.11.7"
  }
 },
 "nbformat": 4,
 "nbformat_minor": 5
}
